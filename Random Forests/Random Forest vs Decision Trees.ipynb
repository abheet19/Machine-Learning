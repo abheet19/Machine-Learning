{
 "cells": [
  {
   "cell_type": "code",
   "execution_count": null,
   "metadata": {},
   "outputs": [],
   "source": [
    "import numpy as np\n",
    "import pandas as pd"
   ]
  },
  {
   "cell_type": "code",
   "execution_count": null,
   "metadata": {},
   "outputs": [],
   "source": [
    "titanic = pd.read_csv(\"titanic.csv\")\n",
    "print(titanic.shape)\n",
    "titanic.head()"
   ]
  },
  {
   "cell_type": "code",
   "execution_count": null,
   "metadata": {},
   "outputs": [],
   "source": [
    "X = titanic.iloc[:,0:titanic.shape[1]-1]\n",
    "Y = titanic.iloc[:,-1]\n",
    "Y"
   ]
  },
  {
   "cell_type": "code",
   "execution_count": null,
   "metadata": {},
   "outputs": [],
   "source": [
    "from sklearn import model_selection\n",
    "X_train, X_test, Y_train, Y_test = model_selection.train_test_split(X, Y, random_state=123211)\n",
    "print(type(X_train))\n",
    "print(type(Y_train))\n",
    "print(type(Y_test))"
   ]
  },
  {
   "cell_type": "code",
   "execution_count": null,
   "metadata": {
    "scrolled": true
   },
   "outputs": [],
   "source": [
    "X_Y_train = X_train.copy()\n",
    "X_Y_train['Survived'] = Y_train\n",
    "print(X_Y_train.shape)\n",
    "print(X_test.shape)\n",
    "print(Y_train.shape)\n",
    "X_Y_train.to_csv('titanic_x_y_train.csv', index=False)\n",
    "X_train.to_csv('titanic_x_train.csv', index=False)\n",
    "Y_train.to_csv('titanic_y_train.csv', index=False)\n",
    "X_test.to_csv('titanic_x_test.csv', index=False)\n",
    "Y_test.to_csv('titanic_y_test.csv', index=False)"
   ]
  },
  {
   "cell_type": "code",
   "execution_count": null,
   "metadata": {},
   "outputs": [],
   "source": [
    "X_Y_train_l = pd.read_csv('titanic_x_y_train.csv', delimiter=',')\n",
    "X_test_l = pd.read_csv('titanic_x_test.csv', delimiter=',')\n",
    "print(X_Y_train_l.shape)\n",
    "X_Y_train_l.isnull().sum()\n",
    "\n",
    "#X_Y_train_l.head()"
   ]
  },
  {
   "cell_type": "code",
   "execution_count": null,
   "metadata": {},
   "outputs": [],
   "source": [
    "del X_Y_train_l[\"Name\"]\n",
    "del X_Y_train_l[\"Ticket\"]\n",
    "del X_Y_train_l[\"Cabin\"]\n",
    "del X_Y_train_l[\"Fare\"]\n",
    "X_Y_train_l.head()"
   ]
  },
  {
   "cell_type": "code",
   "execution_count": null,
   "metadata": {},
   "outputs": [],
   "source": [
    "del X_test_l[\"Name\"]\n",
    "del X_test_l[\"Ticket\"]\n",
    "del X_test_l[\"Cabin\"]\n",
    "del X_test_l[\"Fare\"]"
   ]
  },
  {
   "cell_type": "code",
   "execution_count": null,
   "metadata": {},
   "outputs": [],
   "source": [
    "print(X_Y_train_l.isnull().sum())\n",
    "print(X_Y_train_l.shape)\n",
    "#X_Y_train_l.dropna(inplace=True)\n",
    "X_Y_train_l = X_Y_train_l.fillna(X_Y_train_l.median())\n",
    "print(X_Y_train_l.isnull().sum())\n",
    "X_Y_train_l.shape\n",
    "\n"
   ]
  },
  {
   "cell_type": "code",
   "execution_count": null,
   "metadata": {},
   "outputs": [],
   "source": [
    "X_Y_train_l.dropna(inplace=True)\n",
    "print(X_Y_train_l.isnull().sum())\n",
    "X_Y_train_l.shape"
   ]
  },
  {
   "cell_type": "code",
   "execution_count": null,
   "metadata": {},
   "outputs": [],
   "source": [
    "X_train_l = X_Y_train_l.iloc[:,:X_Y_train_l.shape[1]-1]\n",
    "print(X_train_l.shape)\n",
    "Y_train_l = X_Y_train_l.iloc[:,-1]\n",
    "print(Y_train_l.shape)\n",
    "print(Y_train_l)"
   ]
  },
  {
   "cell_type": "code",
   "execution_count": null,
   "metadata": {},
   "outputs": [],
   "source": [
    "def getNumber(str):\n",
    "    if str==\"male\":\n",
    "        return 1\n",
    "    else:\n",
    "        return 2\n",
    "X_train_l['gender']=X_train_l[\"Sex\"].apply(getNumber)\n",
    "print(X_train_l)\n",
    "del X_train_l[\"Sex\"]\n",
    "X_train_l.head()"
   ]
  },
  {
   "cell_type": "code",
   "execution_count": null,
   "metadata": {},
   "outputs": [],
   "source": [
    "X_test_l['gender']=X_test_l[\"Sex\"].apply(getNumber)\n",
    "print(X_test_l)\n",
    "del X_test_l[\"Sex\"]\n",
    "X_test_l.head()"
   ]
  },
  {
   "cell_type": "code",
   "execution_count": null,
   "metadata": {},
   "outputs": [],
   "source": [
    "def getNumberEmbarked(str):\n",
    "    if str=='C':\n",
    "        return 1\n",
    "    elif str=='Q':\n",
    "        return 2\n",
    "    else:\n",
    "        return 3\n",
    "X_train_l['Embarked']=X_train_l[\"Embarked\"].apply(getNumberEmbarked)\n",
    "print(X_train_l)"
   ]
  },
  {
   "cell_type": "code",
   "execution_count": null,
   "metadata": {},
   "outputs": [],
   "source": [
    "X_test_l['Embarked']=X_test_l[\"Embarked\"].apply(getNumberEmbarked)\n",
    "print(X_test_l)"
   ]
  },
  {
   "cell_type": "code",
   "execution_count": null,
   "metadata": {},
   "outputs": [],
   "source": [
    "print(X_test_l.isnull().sum())\n",
    "X_test_l = X_test_l.fillna(X_test_l.median())\n",
    "X_test_l.isnull().sum()"
   ]
  },
  {
   "cell_type": "code",
   "execution_count": null,
   "metadata": {},
   "outputs": [],
   "source": [
    "from sklearn import tree\n",
    "clf = tree.DecisionTreeClassifier()\n",
    "clf.fit(X_train_l, Y_train_l)\n",
    "Y_pred_l = clf.predict(X_test_l)\n",
    "clf.score(X_train_l,Y_train_l), clf.score(X_test_l,Y_test)"
   ]
  },
  {
   "cell_type": "code",
   "execution_count": null,
   "metadata": {},
   "outputs": [],
   "source": [
    "from sklearn.ensemble import RandomForestClassifier\n",
    "clf = RandomForestClassifier(max_depth = 6, random_state=0)\n",
    "clf.fit(X_train_l, Y_train_l)\n",
    "clf.score(X_train_l,Y_train_l),clf.score(X_test_l,Y_test)"
   ]
  }
 ],
 "metadata": {
  "kernelspec": {
   "display_name": "Python 3",
   "language": "python",
   "name": "python3"
  },
  "language_info": {
   "codemirror_mode": {
    "name": "ipython",
    "version": 3
   },
   "file_extension": ".py",
   "mimetype": "text/x-python",
   "name": "python",
   "nbconvert_exporter": "python",
   "pygments_lexer": "ipython3",
   "version": "3.7.6"
  }
 },
 "nbformat": 4,
 "nbformat_minor": 2
}
