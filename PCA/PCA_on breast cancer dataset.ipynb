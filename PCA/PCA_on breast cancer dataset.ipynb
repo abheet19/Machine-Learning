{
 "cells": [
  {
   "cell_type": "code",
   "execution_count": 9,
   "metadata": {},
   "outputs": [],
   "source": [
    "from sklearn import decomposition ,datasets,linear_model\n",
    "import numpy as np\n",
    "import time\n",
    "from sklearn.preprocessing import StandardScaler\n",
    "from sklearn.model_selection import train_test_split"
   ]
  },
  {
   "cell_type": "markdown",
   "metadata": {},
   "source": [
    "### We compare the performance of logistic regression on the breast cancer dataset ,first without PCA and then with PCA \n"
   ]
  },
  {
   "cell_type": "markdown",
   "metadata": {},
   "source": [
    "The brest cancer dataset contains 30 features and we will reduce the dimensionality to 15 features and compare\n",
    " the time and accuracy of both the models"
   ]
  },
  {
   "cell_type": "code",
   "execution_count": 10,
   "metadata": {},
   "outputs": [],
   "source": [
    "breast_cancer=datasets.load_breast_cancer()"
   ]
  },
  {
   "cell_type": "code",
   "execution_count": 11,
   "metadata": {},
   "outputs": [],
   "source": [
    "X=breast_cancer.data\n",
    "Y=breast_cancer.target"
   ]
  },
  {
   "cell_type": "code",
   "execution_count": 12,
   "metadata": {},
   "outputs": [
    {
     "data": {
      "text/plain": [
       "(569, 30)"
      ]
     },
     "execution_count": 12,
     "metadata": {},
     "output_type": "execute_result"
    }
   ],
   "source": [
    "X.shape"
   ]
  },
  {
   "cell_type": "code",
   "execution_count": 13,
   "metadata": {},
   "outputs": [],
   "source": [
    "sc=StandardScaler()\n",
    "X_std=sc.fit_transform(X)"
   ]
  },
  {
   "cell_type": "code",
   "execution_count": 40,
   "metadata": {},
   "outputs": [],
   "source": [
    "x_train,x_test,y_train,y_test=train_test_split(X_std,Y,random_state=0)"
   ]
  },
  {
   "cell_type": "markdown",
   "metadata": {},
   "source": [
    "First we will create PCA object without passing no. of componenets to just get the explained_variance_ratio\n",
    "for performing our analysis of how many components we should take .After getting the optimal components with desired \n",
    "variance ,we will again make a new PCA object with 'k' no. of components"
   ]
  },
  {
   "cell_type": "code",
   "execution_count": 34,
   "metadata": {},
   "outputs": [],
   "source": [
    "pca=decomposition.PCA()"
   ]
  },
  {
   "cell_type": "code",
   "execution_count": 35,
   "metadata": {},
   "outputs": [
    {
     "data": {
      "text/plain": [
       "PCA(copy=True, iterated_power='auto', n_components=None, random_state=None,\n",
       "    svd_solver='auto', tol=0.0, whiten=False)"
      ]
     },
     "execution_count": 35,
     "metadata": {},
     "output_type": "execute_result"
    }
   ],
   "source": [
    "pca.fit(x_train)"
   ]
  },
  {
   "cell_type": "code",
   "execution_count": 36,
   "metadata": {},
   "outputs": [
    {
     "data": {
      "text/plain": [
       "array([4.37115847e-01, 1.95131993e-01, 9.59119872e-02, 6.43895478e-02,\n",
       "       5.70479896e-02, 4.04868428e-02, 2.19216823e-02, 1.43185264e-02,\n",
       "       1.43088652e-02, 1.15957145e-02, 1.03362894e-02, 8.59149779e-03,\n",
       "       7.65527524e-03, 4.80695206e-03, 3.10799443e-03, 2.61803913e-03,\n",
       "       2.05954803e-03, 1.76552125e-03, 1.51303543e-03, 1.03436864e-03,\n",
       "       1.01760063e-03, 8.43501021e-04, 7.12092777e-04, 5.95330294e-04,\n",
       "       5.49894519e-04, 2.62951796e-04, 2.21816398e-04, 4.87389600e-05,\n",
       "       2.68022711e-05, 3.75492011e-06])"
      ]
     },
     "execution_count": 36,
     "metadata": {},
     "output_type": "execute_result"
    }
   ],
   "source": [
    "pca.explained_variance_ratio_"
   ]
  },
  {
   "cell_type": "code",
   "execution_count": 39,
   "metadata": {},
   "outputs": [
    {
     "data": {
      "text/plain": [
       "17"
      ]
     },
     "execution_count": 39,
     "metadata": {},
     "output_type": "execute_result"
    }
   ],
   "source": [
    "k = 0\n",
    "total = 0\n",
    "while total <.99:\n",
    "    total = total + pca.explained_variance_ratio_[k]  #adding variance ratio \n",
    "    k = k + 1\n",
    "k\n"
   ]
  },
  {
   "cell_type": "markdown",
   "metadata": {},
   "source": [
    "Here the optimal value of k(no of components to take is 17) with maintaining 99% variance"
   ]
  },
  {
   "cell_type": "code",
   "execution_count": 41,
   "metadata": {},
   "outputs": [],
   "source": [
    "pca=decomposition.PCA(n_components=k)\n",
    "x_train_pca=pca.fit_transform(x_train)\n",
    "x_test_pca=pca.transform(x_test)"
   ]
  },
  {
   "cell_type": "code",
   "execution_count": 42,
   "metadata": {},
   "outputs": [
    {
     "name": "stdout",
     "output_type": "stream",
     "text": [
      "0.015602827072143555\n",
      "0.965034965034965\n"
     ]
    }
   ],
   "source": [
    "lr=linear_model.LogisticRegression()\n",
    "start=time.time()\n",
    "lr.fit(x_train,y_train)\n",
    "end=time.time()\n",
    "print(end-start)\n",
    "print(lr.score(x_test,y_test))"
   ]
  },
  {
   "cell_type": "code",
   "execution_count": 45,
   "metadata": {},
   "outputs": [
    {
     "name": "stdout",
     "output_type": "stream",
     "text": [
      "0.015586376190185547\n",
      "0.958041958041958\n"
     ]
    }
   ],
   "source": [
    "lr=linear_model.LogisticRegression()\n",
    "start=time.time()\n",
    "lr.fit(x_train_pca,y_train)\n",
    "end=time.time()\n",
    "print(end-start)\n",
    "print(lr.score(x_test_pca,y_test))"
   ]
  },
  {
   "cell_type": "code",
   "execution_count": 49,
   "metadata": {},
   "outputs": [
    {
     "data": {
      "text/plain": [
       "array([13.02746837,  5.81556555,  2.85848795,  1.91901713,  1.70021491,\n",
       "        1.20663908,  0.65333715,  0.42673847,  0.42645054,  0.34558986,\n",
       "        0.30805491,  0.25605447,  0.228152  ,  0.14326274,  0.0926283 ,\n",
       "        0.07802605,  0.0613812 ])"
      ]
     },
     "execution_count": 49,
     "metadata": {},
     "output_type": "execute_result"
    }
   ],
   "source": [
    "pca.explained_variance_"
   ]
  },
  {
   "cell_type": "code",
   "execution_count": 50,
   "metadata": {},
   "outputs": [
    {
     "data": {
      "text/plain": [
       "array([[ 2.28240979e-01,  9.59082795e-02,  2.35480422e-01,\n",
       "         2.34434752e-01,  1.37145319e-01,  2.28171889e-01,\n",
       "         2.54340322e-01,  2.64690199e-01,  1.31731874e-01,\n",
       "         4.86826974e-02,  2.18803482e-01,  6.03456600e-03,\n",
       "         2.18141293e-01,  2.21402086e-01,  1.31790832e-02,\n",
       "         1.52030562e-01,  1.39231779e-01,  1.69025004e-01,\n",
       "         2.70385692e-02,  9.53426441e-02,  2.38132485e-01,\n",
       "         9.86220297e-02,  2.44674933e-01,  2.39542237e-01,\n",
       "         1.27298498e-01,  1.98472931e-01,  2.14882667e-01,\n",
       "         2.51519739e-01,  1.18001710e-01,  1.21392651e-01],\n",
       "       [-2.21347830e-01, -4.85254345e-02, -2.03445909e-01,\n",
       "        -2.22288570e-01,  1.84308320e-01,  1.54813769e-01,\n",
       "         7.87151969e-02, -1.74711359e-02,  2.02716767e-01,\n",
       "         3.57105128e-01, -1.02614253e-01,  9.04739174e-02,\n",
       "        -9.32050601e-02, -1.53474054e-01,  1.95575209e-01,\n",
       "         2.30514589e-01,  2.27431775e-01,  1.53727058e-01,\n",
       "         1.79476881e-01,  2.81108036e-01, -2.06943986e-01,\n",
       "        -3.37070116e-02, -1.89986372e-01, -2.10638966e-01,\n",
       "         1.82026612e-01,  1.48317573e-01,  1.14929369e-01,\n",
       "         1.66018043e-02,  1.56980254e-01,  2.79594116e-01],\n",
       "       [-1.75147466e-02,  1.86613802e-02, -1.73056653e-02,\n",
       "         2.55613836e-02, -9.72587522e-02, -7.31202412e-02,\n",
       "         2.03420284e-02, -2.50038573e-02, -3.88564977e-02,\n",
       "        -1.33791940e-02,  2.86805715e-01,  3.42402811e-01,\n",
       "         2.76681697e-01,  2.44333865e-01,  2.75093203e-01,\n",
       "         1.56756301e-01,  2.08323084e-01,  2.03870467e-01,\n",
       "         2.86602641e-01,  2.20624715e-01, -5.88501361e-02,\n",
       "        -9.14580240e-02, -5.81449607e-02, -1.77423795e-02,\n",
       "        -2.68222121e-01, -2.36071632e-01, -1.54056473e-01,\n",
       "        -1.80513704e-01, -2.81929996e-01, -2.23792450e-01],\n",
       "       [-4.68425768e-02,  5.97604554e-01, -4.63717939e-02,\n",
       "        -4.85644575e-02, -1.03215873e-01, -3.29075684e-02,\n",
       "        -1.62554011e-02, -4.55526344e-02, -5.46776778e-02,\n",
       "        -3.67099619e-02, -5.40177058e-02,  4.21443833e-01,\n",
       "        -5.10787674e-02, -7.25961623e-02,  2.27425331e-02,\n",
       "         8.36380639e-03, -3.09404933e-02, -8.08818822e-02,\n",
       "        -4.61145587e-02, -2.36023420e-02, -1.22988373e-02,\n",
       "         6.40760009e-01, -1.28887019e-02, -1.04330700e-02,\n",
       "         2.68734995e-02,  5.26903442e-02,  4.25078547e-02,\n",
       "        -1.72325655e-02,  2.14475075e-03,  4.43186155e-02],\n",
       "       [ 3.84061360e-02,  1.00460436e-02,  3.78624110e-02,\n",
       "         8.59976168e-03, -3.64611396e-01,  6.82552945e-03,\n",
       "         9.83241524e-02, -3.85026727e-02, -3.06291590e-01,\n",
       "        -5.09557943e-02, -1.69691716e-01, -1.43496196e-01,\n",
       "        -1.42382013e-01, -1.52242564e-01, -2.49807274e-01,\n",
       "         2.52651501e-01,  3.78559277e-01,  1.96359118e-01,\n",
       "        -2.89326984e-01,  2.48610620e-01,  6.82212960e-03,\n",
       "        -1.58447345e-02,  1.47963783e-02, -1.80977490e-02,\n",
       "        -2.93528896e-01,  1.10972250e-01,  1.98567433e-01,\n",
       "         5.48015140e-02, -2.46820041e-01,  8.51009179e-02],\n",
       "       [ 2.82190526e-02,  3.71438503e-02,  2.34159669e-02,\n",
       "         3.24498662e-03, -3.16696181e-01, -3.78064750e-02,\n",
       "        -1.10472499e-02, -5.08656592e-02,  3.64163220e-01,\n",
       "        -1.54735513e-01, -3.99744956e-02, -3.95738853e-02,\n",
       "        -3.53544953e-02, -7.15687147e-02, -2.88685975e-01,\n",
       "         6.66672643e-02,  6.90174923e-02, -7.61301618e-03,\n",
       "         4.60707595e-01, -2.25761203e-02,  1.51904773e-02,\n",
       "         5.71593882e-03,  1.76634280e-02, -1.51517662e-02,\n",
       "        -3.70815675e-01,  3.52939935e-02,  2.97814751e-02,\n",
       "        -1.07713059e-02,  5.22387214e-01, -8.90116738e-02],\n",
       "       [-1.38509223e-01,  2.19063161e-02, -1.29967512e-01,\n",
       "        -6.94416372e-02, -1.85633902e-01,  1.50381140e-02,\n",
       "        -1.17203753e-01, -1.84856475e-01, -1.47512699e-01,\n",
       "         2.56642299e-01,  2.94216162e-01, -1.60935485e-01,\n",
       "         3.09275785e-01,  3.56359502e-01, -2.30872581e-01,\n",
       "         3.54737615e-02, -1.64176362e-01, -3.40367540e-01,\n",
       "        -3.35481444e-02,  1.58242006e-01, -2.49307204e-02,\n",
       "         2.62693416e-02, -1.73577403e-02,  4.69325264e-02,\n",
       "        -9.24052326e-02,  1.85616337e-01, -2.66463605e-02,\n",
       "        -1.53798763e-01,  5.01391713e-02,  3.95067588e-01],\n",
       "       [-1.31439385e-02, -1.29279705e-01, -2.68601217e-03,\n",
       "        -4.75028690e-02,  2.32007475e-01,  1.21302327e-01,\n",
       "         5.88924216e-02,  1.33177543e-01,  3.94539911e-01,\n",
       "         1.59016765e-01,  3.94201156e-02,  4.12136409e-01,\n",
       "         3.46859382e-02, -2.78605364e-02, -5.38446560e-01,\n",
       "        -1.16137700e-01, -6.92949241e-02,  2.34370419e-02,\n",
       "        -3.36787471e-01,  7.07032548e-02, -3.51697730e-02,\n",
       "        -3.34155355e-02, -2.72843208e-02, -5.92580447e-02,\n",
       "        -2.46044793e-01, -8.59218120e-02, -9.90296092e-02,\n",
       "         3.23573221e-04, -1.58589844e-01, -9.48344713e-03],\n",
       "       [-2.02062824e-01,  1.19828314e-01, -2.03615768e-01,\n",
       "        -1.73144435e-01,  4.32612946e-02, -1.75681592e-01,\n",
       "         3.85238157e-02, -1.32439668e-01,  2.14489601e-01,\n",
       "        -1.44867835e-01,  2.18043419e-01, -2.89126358e-01,\n",
       "         1.98685688e-01,  2.31871149e-01, -1.05721856e-01,\n",
       "        -1.56337832e-01,  3.86240496e-01,  2.54779341e-01,\n",
       "        -2.77833001e-01, -2.32031997e-01, -1.05059948e-01,\n",
       "         1.23142781e-01, -1.04218477e-01, -7.02495271e-02,\n",
       "         1.57270386e-01, -1.19239904e-01,  1.69222974e-01,\n",
       "         4.18009474e-02,  9.59022846e-02, -1.70204540e-01],\n",
       "       [-6.53866096e-02, -2.71123329e-01, -6.61418503e-02,\n",
       "        -5.33598406e-02,  1.71783216e-01, -7.33880245e-02,\n",
       "         1.53769444e-01,  2.77853771e-02, -5.34877774e-01,\n",
       "        -3.18649539e-02,  3.76976082e-02,  3.61694797e-01,\n",
       "         5.00560801e-02,  3.48173445e-02, -3.09294981e-01,\n",
       "        -1.46801606e-01,  1.96045615e-01, -9.12845967e-02,\n",
       "         3.07625277e-01, -2.35602115e-01, -3.85221582e-02,\n",
       "        -5.41877657e-03, -3.77268041e-02, -4.50094067e-02,\n",
       "         8.38175566e-02,  5.44099757e-02,  2.83265920e-01,\n",
       "         1.01726698e-01,  1.09497462e-01, -3.10199810e-02],\n",
       "       [ 8.87788658e-02, -6.31322887e-02,  5.65792924e-02,\n",
       "         1.49018467e-01,  3.82707431e-02, -3.14888513e-01,\n",
       "         4.70915220e-02, -7.72283912e-02,  5.90376296e-02,\n",
       "         1.14503176e-01, -5.04835208e-02,  2.70486332e-02,\n",
       "        -2.09322886e-01,  1.87067317e-02, -1.79963129e-02,\n",
       "        -2.97029877e-01,  3.55509529e-01, -2.62993937e-01,\n",
       "        -2.51265469e-02,  4.40156897e-01,  1.48316795e-01,\n",
       "         6.36940582e-02,  7.28215674e-02,  2.23862153e-01,\n",
       "         1.76601716e-01, -3.72188445e-01, -4.64096599e-03,\n",
       "        -1.61487890e-01,  1.52123165e-01,  1.04796584e-01],\n",
       "       [ 3.72204899e-02,  3.53685342e-01,  3.50350625e-02,\n",
       "        -2.32377419e-02,  4.07933578e-01,  5.28267753e-02,\n",
       "        -1.05003884e-01,  5.20621460e-02, -2.64307362e-01,\n",
       "         1.47782476e-01,  2.14305029e-02, -3.77881281e-01,\n",
       "         1.41875453e-02, -1.00834166e-01, -3.56616231e-01,\n",
       "        -3.74748961e-02, -6.00768373e-02,  2.56140952e-01,\n",
       "         3.05359774e-01,  1.98807050e-01,  6.44609404e-03,\n",
       "         7.93899603e-02, -3.38638059e-03, -6.20579440e-02,\n",
       "        -3.87439318e-02, -1.89360229e-01, -2.36623745e-01,\n",
       "         2.86739137e-02, -4.49006984e-02, -8.08489136e-02],\n",
       "       [ 3.95959666e-02,  2.53891450e-01,  6.82359647e-02,\n",
       "         1.00603475e-01,  8.97029283e-02,  2.15462693e-01,\n",
       "         3.86282761e-01,  1.36936463e-01,  9.35009009e-02,\n",
       "         1.93996321e-01, -9.76078816e-02, -2.24907547e-01,\n",
       "        -4.10331079e-02,  5.81717331e-02,  7.00382816e-02,\n",
       "        -5.64735329e-02,  1.86176660e-01, -4.71420518e-01,\n",
       "         9.92216237e-02, -2.29905277e-01, -1.45554871e-01,\n",
       "        -7.21753374e-02, -1.14279683e-01, -1.16129171e-01,\n",
       "        -2.02224435e-01, -4.73361588e-02,  2.00269960e-01,\n",
       "        -2.38654624e-01, -2.16213844e-01, -1.32731506e-01],\n",
       "       [ 6.56611288e-02, -3.97195927e-02,  5.96644958e-02,\n",
       "         2.60426007e-02,  3.93665292e-01,  3.67764810e-02,\n",
       "        -1.66216227e-01, -2.61999313e-01,  6.36394665e-02,\n",
       "        -3.91916762e-01, -7.20460285e-03,  2.53252160e-02,\n",
       "        -6.94809494e-02,  8.26855749e-02, -1.55665713e-01,\n",
       "         4.93996653e-01,  1.37095026e-01, -2.44054600e-01,\n",
       "        -4.05806675e-02,  9.94982538e-02,  2.31291977e-02,\n",
       "         1.70331000e-02,  9.82992135e-03,  6.20214528e-04,\n",
       "         1.58755778e-01,  2.24421284e-01, -1.86712415e-02,\n",
       "        -3.12412708e-01, -1.50148012e-02, -1.85566656e-01],\n",
       "       [ 1.11396889e-01,  7.38835474e-02,  1.00824754e-01,\n",
       "         4.14995088e-02,  4.60066961e-02, -2.04839341e-01,\n",
       "         1.31638906e-01,  1.68479702e-01,  7.85712822e-02,\n",
       "        -5.13717020e-01,  7.97065312e-02, -3.84381349e-02,\n",
       "         1.61740227e-02,  8.68483157e-02, -5.90582846e-03,\n",
       "        -1.82427305e-01, -2.09044080e-01, -6.04491721e-02,\n",
       "         7.81463470e-02,  3.41652530e-01, -2.03735357e-01,\n",
       "        -5.97012690e-02, -2.25933649e-01, -3.86018272e-01,\n",
       "         2.75803104e-02,  3.26258055e-02,  1.86521024e-01,\n",
       "         1.49531404e-01, -1.23415947e-01,  2.68149998e-01],\n",
       "       [-9.46963134e-02, -1.62481385e-01, -5.66295425e-02,\n",
       "        -9.21223648e-02, -1.98915085e-01,  1.92693337e-01,\n",
       "         2.48781996e-01,  3.41830092e-01, -1.78233963e-01,\n",
       "        -2.78067490e-02,  1.79524707e-02, -6.43420877e-02,\n",
       "         4.37148603e-02,  8.64037026e-02, -2.99352604e-02,\n",
       "         2.01354098e-01, -9.57931685e-02, -2.01125303e-01,\n",
       "        -1.90164027e-01,  2.64159228e-01, -1.08538338e-01,\n",
       "         1.93129834e-01, -5.61407978e-02, -1.53298870e-01,\n",
       "         1.71322795e-01, -1.70268495e-01, -2.43052656e-01,\n",
       "         9.95151467e-02,  3.05439507e-01, -3.97197164e-01],\n",
       "       [ 2.49668172e-01, -1.22519991e-02,  2.37073813e-01,\n",
       "         3.35844010e-01,  1.15057382e-01, -5.72543004e-02,\n",
       "        -1.05297781e-01, -6.62148382e-02, -1.56343803e-01,\n",
       "         1.51024638e-01, -2.06888682e-01,  7.44092082e-02,\n",
       "        -4.50870607e-02,  3.45842218e-01,  8.52103682e-02,\n",
       "         4.35361253e-02,  9.39985060e-02,  1.75931171e-01,\n",
       "        -2.20436762e-01, -1.75777376e-01, -2.36811365e-01,\n",
       "         4.09972974e-02, -2.39235077e-01, -2.36404401e-01,\n",
       "        -1.71650408e-01, -2.01055675e-02, -1.87577122e-01,\n",
       "        -4.93473581e-02,  3.60426669e-01,  1.50301762e-01]])"
      ]
     },
     "execution_count": 50,
     "metadata": {},
     "output_type": "execute_result"
    }
   ],
   "source": [
    "pca.components_"
   ]
  },
  {
   "cell_type": "code",
   "execution_count": 51,
   "metadata": {},
   "outputs": [
    {
     "data": {
      "image/png": "[encoded data removed]",
      "text/plain": [
       "<Figure size 432x288 with 1 Axes>"
      ]
     },
     "metadata": {
      "needs_background": "light"
     },
     "output_type": "display_data"
    }
   ],
   "source": [
    "from matplotlib import pyplot as plt\n",
    "plt.plot(x_train_pca, 'o',color=\"m\")\n",
    "plt.show()"
   ]
  }
 ],
 "metadata": {
  "kernelspec": {
   "display_name": "Python 3",
   "language": "python",
   "name": "python3"
  },
  "language_info": {
   "codemirror_mode": {
    "name": "ipython",
    "version": 3
   },
   "file_extension": ".py",
   "mimetype": "text/x-python",
   "name": "python",
   "nbconvert_exporter": "python",
   "pygments_lexer": "ipython3",
   "version": "3.7.6"
  }
 },
 "nbformat": 4,
 "nbformat_minor": 4
}
